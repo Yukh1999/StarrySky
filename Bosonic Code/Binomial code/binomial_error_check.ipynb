{
 "cells": [
  {
   "cell_type": "markdown",
   "metadata": {},
   "source": [
    "# Checking the robustness of binomial code to errors"
   ]
  },
  {
   "cell_type": "markdown",
   "metadata": {},
   "source": [
    "## Check if the binomial code is robust to the errors as paper claiming"
   ]
  },
  {
   "cell_type": "markdown",
   "metadata": {},
   "source": [
    "Binomial Code\n",
    "$$\n",
    "\\begin{align*}\n",
    "|W_{\\uparrow/\\downarrow} \\rangle = \\frac{1}{\\sqrt{2^N}} \\sum_{p \\; even/odd}^{[0, N+1]} \n",
    "\\sqrt{\\begin{pmatrix}\n",
    "N+1 \\\\ p\n",
    "\\end{pmatrix}} |p(S+1)\\rangle\n",
    "\\end{align*}\n",
    "$$"
   ]
  },
  {
   "cell_type": "markdown",
   "metadata": {},
   "source": [
    "Where, \n",
    "$$\n",
    "\\begin{align*}\n",
    "&N = max\\{ L, G, 2D \\} \\\\\n",
    "&S = L + G\n",
    "\\end{align*}$$"
   ]
  },
  {
   "cell_type": "markdown",
   "metadata": {},
   "source": [
    "### Example: $L = 4, G = 2, D = 2$\n",
    "$N = 4, S = 6$"
   ]
  },
  {
   "cell_type": "markdown",
   "metadata": {},
   "source": [
    "$$\n",
    "\\begin{align*}\n",
    "|W_\\uparrow \\rangle &= \\frac{1}{\\sqrt{2^4}} \\left( \n",
    "    \\sqrt{\\frac{5!}{0!5!}} |0\\rangle + \n",
    "    \\sqrt{\\frac{5!}{2!3!}} |2\\times 7 \\rangle +\n",
    "    \\sqrt{\\frac{5!}{4!1!}} |4 \\times 7 \\rangle\n",
    " \\right) \\\\\n",
    " &= \\frac{|0\\rangle + \\sqrt{10}|14 \\rangle + \\sqrt{5}|28 \\rangle}{4} \\\\\n",
    " |W_{\\downarrow} \\rangle &= \\frac{\\sqrt{5} |7 \\rangle + \\sqrt{10} |21 \\rangle + |35 \\rangle}{4} \n",
    "\\end{align*}\n",
    "$$"
   ]
  },
  {
   "cell_type": "code",
   "execution_count": 1,
   "metadata": {},
   "outputs": [],
   "source": [
    "# Import the necessaty package\n",
    "import numpy as np"
   ]
  },
  {
   "cell_type": "markdown",
   "metadata": {},
   "source": [
    "#### Successive photon loss events"
   ]
  },
  {
   "cell_type": "code",
   "execution_count": 10,
   "metadata": {},
   "outputs": [
    {
     "data": {
      "text/plain": [
       "True"
      ]
     },
     "execution_count": 10,
     "metadata": {},
     "output_type": "execute_result"
    }
   ],
   "source": [
    "# a\n",
    "up_normalz_coeff = 1 * 0 + 10 * 14 + 5 * 28\n",
    "down_normalz_coeff = 5 * 7 + 10 * 21 + 1 * 35\n",
    "isEqual = not bool(up_normalz_coeff - down_normalz_coeff)\n",
    "isEqual"
   ]
  },
  {
   "cell_type": "code",
   "execution_count": 11,
   "metadata": {},
   "outputs": [
    {
     "data": {
      "text/plain": [
       "True"
      ]
     },
     "execution_count": 11,
     "metadata": {},
     "output_type": "execute_result"
    }
   ],
   "source": [
    "# a^2\n",
    "up_normalz_coeff = 1 * 0 + 10 * 14 * 13 + 5 * 28 * 27\n",
    "down_normalz_coeff = 5 * 7 * 6 + 10 * 21 * 20 + 1 * 35 * 34\n",
    "isEqual = not bool(up_normalz_coeff - down_normalz_coeff)\n",
    "isEqual"
   ]
  },
  {
   "cell_type": "code",
   "execution_count": 12,
   "metadata": {},
   "outputs": [
    {
     "data": {
      "text/plain": [
       "True"
      ]
     },
     "execution_count": 12,
     "metadata": {},
     "output_type": "execute_result"
    }
   ],
   "source": [
    "# a^3\n",
    "up_normalz_coeff = 1 * 0 + 10 * 14 * 13 * 12 + 5 * 28 * 27 * 26\n",
    "down_normalz_coeff = 5 * 7 * 6 * 5 + 10 * 21 * 20 * 19 + 1 * 35 * 34 * 33\n",
    "isEqual = not bool(up_normalz_coeff - down_normalz_coeff)\n",
    "isEqual"
   ]
  },
  {
   "cell_type": "code",
   "execution_count": 13,
   "metadata": {},
   "outputs": [
    {
     "data": {
      "text/plain": [
       "True"
      ]
     },
     "execution_count": 13,
     "metadata": {},
     "output_type": "execute_result"
    }
   ],
   "source": [
    "# a^4\n",
    "up_normalz_coeff = 1 * 0 + 10 * 14 * 13 * 12 * 11 + 5 * 28 * 27 * 26 * 25\n",
    "down_normalz_coeff = 5 * 7 * 6 * 5 * 4 + 10 * 21 * 20 * 19 * 18 + 1 * 35 * 34 * 33 * 32\n",
    "isEqual = not bool(up_normalz_coeff - down_normalz_coeff)\n",
    "isEqual"
   ]
  },
  {
   "cell_type": "code",
   "execution_count": 14,
   "metadata": {},
   "outputs": [
    {
     "data": {
      "text/plain": [
       "False"
      ]
     },
     "execution_count": 14,
     "metadata": {},
     "output_type": "execute_result"
    }
   ],
   "source": [
    "# a^5\n",
    "up_normalz_coeff = 1 * 0 + 10 * 14 * 13 * 12 * 11 * 10 + 5 * 28 * 27 * 26 * 25 * 24\n",
    "down_normalz_coeff = 5 * 7 * 6 * 5 * 4 * 3 + 10 * 21 * 20 * 19 * 18 * 17 + 1 * 35 * 34 * 33 * 32 * 31\n",
    "isEqual = not bool(up_normalz_coeff - down_normalz_coeff)\n",
    "isEqual"
   ]
  },
  {
   "cell_type": "markdown",
   "metadata": {},
   "source": [
    "- The error can not be correctable if these two coefficients is not equal.\n",
    "- We can figure out this code can be used to correct $L=4$ photon loss error, <font color='green'>validation pass</font>"
   ]
  },
  {
   "cell_type": "markdown",
   "metadata": {},
   "source": [
    "#### Successive photon gain events"
   ]
  },
  {
   "cell_type": "code",
   "execution_count": 15,
   "metadata": {},
   "outputs": [
    {
     "data": {
      "text/plain": [
       "True"
      ]
     },
     "execution_count": 15,
     "metadata": {},
     "output_type": "execute_result"
    }
   ],
   "source": [
    "# a_dag\n",
    "up_normalz_coeff = 1 * 1 + 10 * 15 + 5 * 29\n",
    "down_normalz_coeff = 5 * 8 + 10 * 22 + 1 * 36\n",
    "isEqual = not bool(up_normalz_coeff - down_normalz_coeff)\n",
    "isEqual"
   ]
  },
  {
   "cell_type": "code",
   "execution_count": 16,
   "metadata": {},
   "outputs": [
    {
     "data": {
      "text/plain": [
       "True"
      ]
     },
     "execution_count": 16,
     "metadata": {},
     "output_type": "execute_result"
    }
   ],
   "source": [
    "# a_dag^2\n",
    "up_normalz_coeff = 1 * 1 * 2 + 10 * 15 * 16 + 5 * 29 * 30\n",
    "down_normalz_coeff = 5 * 8 * 9 + 10 * 22 * 23 + 1 * 36 * 37\n",
    "isEqual = not bool(up_normalz_coeff - down_normalz_coeff)\n",
    "isEqual"
   ]
  },
  {
   "cell_type": "code",
   "execution_count": 17,
   "metadata": {},
   "outputs": [
    {
     "data": {
      "text/plain": [
       "True"
      ]
     },
     "execution_count": 17,
     "metadata": {},
     "output_type": "execute_result"
    }
   ],
   "source": [
    "# a_dag^3\n",
    "up_normalz_coeff = 1 * 1 * 2 * 3 + 10 * 15 * 16 * 17 + 5 * 29 * 30 * 31\n",
    "down_normalz_coeff = 5 * 8 * 9 * 10 + 10 * 22 * 23 * 24 + 1 * 36 * 37 * 38\n",
    "isEqual = not bool(up_normalz_coeff - down_normalz_coeff)\n",
    "isEqual"
   ]
  },
  {
   "cell_type": "code",
   "execution_count": 18,
   "metadata": {},
   "outputs": [
    {
     "data": {
      "text/plain": [
       "True"
      ]
     },
     "execution_count": 18,
     "metadata": {},
     "output_type": "execute_result"
    }
   ],
   "source": [
    "# a_dag^4\n",
    "up_normalz_coeff = 1 * 1 * 2 * 3 * 4 + 10 * 15 * 16 * 17 * 18 + 5 * 29 * 30 * 31 * 32\n",
    "down_normalz_coeff = 5 * 8 * 9 * 10 * 11 + 10 * 22 * 23 * 24 * 25 + 1 * 36 * 37 * 38 * 39\n",
    "isEqual = not bool(up_normalz_coeff - down_normalz_coeff)\n",
    "isEqual"
   ]
  },
  {
   "cell_type": "code",
   "execution_count": 19,
   "metadata": {},
   "outputs": [
    {
     "data": {
      "text/plain": [
       "False"
      ]
     },
     "execution_count": 19,
     "metadata": {},
     "output_type": "execute_result"
    }
   ],
   "source": [
    "# a_dag^5\n",
    "up_normalz_coeff = 1 * 1 * 2 * 3 * 4 * 5 + 10 * 15 * 16 * 17 * 18 * 19 + 5 * 29 * 30 * 31 * 32 * 33\n",
    "down_normalz_coeff = 5 * 8 * 9 * 10 * 11 * 12 + 10 * 22 * 23 * 24 * 25 * 26 + 1 * 36 * 37 * 38 * 39 * 40\n",
    "isEqual = not bool(up_normalz_coeff - down_normalz_coeff)\n",
    "isEqual"
   ]
  },
  {
   "cell_type": "markdown",
   "metadata": {},
   "source": [
    "- This code can be used to correct $G = 4$ photon gain error as well. Definitely, it is also able to correct $G=2$ error. <font color='green'>Validation pass</font>\n",
    "- However, we intend to correct $G=2$ photon gain error so that designing this code with $S = L + G = 4 + 2 = 6$. If it means we can achieve photon error correcting with $S = max\\{L, G\\}$."
   ]
  },
  {
   "cell_type": "markdown",
   "metadata": {},
   "source": [
    "#### Mixed photon loss and photon gain errors"
   ]
  },
  {
   "cell_type": "code",
   "execution_count": 20,
   "metadata": {},
   "outputs": [
    {
     "data": {
      "text/plain": [
       "True"
      ]
     },
     "execution_count": 20,
     "metadata": {},
     "output_type": "execute_result"
    }
   ],
   "source": [
    "# a_dag a (2 photon events)\n",
    "up_normalz_coeff = 1 * (0) + 10 * (14 * 14) + 5 * (28 * 28)\n",
    "down_normalz_coeff = 5 * (7 * 7) + 10 * (21 * 21) + 1 * (35 * 35)\n",
    "isEqual = not bool(up_normalz_coeff - down_normalz_coeff)\n",
    "isEqual"
   ]
  },
  {
   "cell_type": "code",
   "execution_count": 21,
   "metadata": {},
   "outputs": [
    {
     "data": {
      "text/plain": [
       "True"
      ]
     },
     "execution_count": 21,
     "metadata": {},
     "output_type": "execute_result"
    }
   ],
   "source": [
    "# a a_dag (2 photon events)\n",
    "up_normalz_coeff = 1 * (1 * 1) + 10 * (15 * 15) + 5 * (29 * 29)\n",
    "down_normalz_coeff = 5 * (8 * 8) + 10 * (22 * 22) + 1 * (36 * 36)\n",
    "isEqual = not bool(up_normalz_coeff - down_normalz_coeff)\n",
    "isEqual"
   ]
  },
  {
   "cell_type": "code",
   "execution_count": 22,
   "metadata": {},
   "outputs": [
    {
     "data": {
      "text/plain": [
       "True"
      ]
     },
     "execution_count": 22,
     "metadata": {},
     "output_type": "execute_result"
    }
   ],
   "source": [
    "# a^3 a_dag (4 photon events)\n",
    "up_normalz_coeff = 1 * (1 * 1 * 0) + 10 * (15 * 15 * 14 * 13) + 5 * (29 * 29 * 28 * 27)\n",
    "down_normalz_coeff = 5 * (8 * 8 * 7 * 6) + 10 * (22 * 22 * 21 * 20) + 1 * (36 * 36 * 35 * 34)\n",
    "isEqual = not bool(up_normalz_coeff - down_normalz_coeff)\n",
    "isEqual"
   ]
  },
  {
   "cell_type": "code",
   "execution_count": 23,
   "metadata": {},
   "outputs": [
    {
     "data": {
      "text/plain": [
       "False"
      ]
     },
     "execution_count": 23,
     "metadata": {},
     "output_type": "execute_result"
    }
   ],
   "source": [
    "# a^4 a_dag (5 photon events)\n",
    "up_normalz_coeff = 1 * (1 * 1 * 0) + 10 * (15 * 15 * 14 * 13 * 12) + 5 * (29 * 29 * 28 * 27 * 26)\n",
    "down_normalz_coeff = 5 * (8 * 8 * 7 * 6 * 5) + 10 * (22 * 22 * 21 * 20 * 19) + 1 * (36 * 36 * 35 * 34 * 33)\n",
    "isEqual = not bool(up_normalz_coeff - down_normalz_coeff)\n",
    "isEqual"
   ]
  },
  {
   "cell_type": "code",
   "execution_count": 24,
   "metadata": {},
   "outputs": [
    {
     "data": {
      "text/plain": [
       "True"
      ]
     },
     "execution_count": 24,
     "metadata": {},
     "output_type": "execute_result"
    }
   ],
   "source": [
    "# a_dag^3 a (4 photon events)\n",
    "up_normalz_coeff = 1 * (0) + 10 * (14 * 14 * 15 * 16) + 5 * (28 * 28 * 29 * 30)\n",
    "down_normalz_coeff = 5 * (7 * 7 * 8 * 9) + 10 * (21 * 21 * 22 * 23) + 1 * (35 * 35 * 36 * 37)\n",
    "isEqual = not bool(up_normalz_coeff - down_normalz_coeff)\n",
    "isEqual"
   ]
  },
  {
   "cell_type": "code",
   "execution_count": 25,
   "metadata": {},
   "outputs": [
    {
     "data": {
      "text/plain": [
       "True"
      ]
     },
     "execution_count": 25,
     "metadata": {},
     "output_type": "execute_result"
    }
   ],
   "source": [
    "# a_dag^2 a^2 (4 photon events)\n",
    "up_normalz_coeff = 1 * (0) + 10 * (14 * 13 * 13 * 14) + 5 * (28 * 27 * 27 * 28)\n",
    "down_normalz_coeff = 5 * (7 * 6 * 6 * 7) + 10 * (21 * 20 * 20 * 21) + 1 * (35 * 34 * 34 * 35)\n",
    "isEqual = not bool(up_normalz_coeff - down_normalz_coeff)\n",
    "isEqual"
   ]
  },
  {
   "cell_type": "code",
   "execution_count": 26,
   "metadata": {},
   "outputs": [
    {
     "data": {
      "text/plain": [
       "False"
      ]
     },
     "execution_count": 26,
     "metadata": {},
     "output_type": "execute_result"
    }
   ],
   "source": [
    "# a_dag^3 a^2 (5 photon events)\n",
    "up_normalz_coeff = 1 * (0) + 10 * (14 * 13 * 13 * 14 * 15) + 5 * (28 * 27 * 27 * 28 * 29)\n",
    "down_normalz_coeff = 5 * (7 * 6 * 6 * 7 * 8) + 10 * (21 * 20 * 20 * 21 * 22) + 1 * (35 * 34 * 34 * 35 * 36)\n",
    "isEqual = not bool(up_normalz_coeff - down_normalz_coeff)\n",
    "isEqual"
   ]
  },
  {
   "cell_type": "markdown",
   "metadata": {},
   "source": [
    "- The error that photon events less than or equal to 4 can be corrected\n",
    "- **To sum up**, in spite of any successive photon events occur, as long as it less than or equal to 4, the binomial code can correct the error."
   ]
  },
  {
   "cell_type": "markdown",
   "metadata": {},
   "source": [
    "Therefore, I have a idea that $S = \\text{the number of photon events}, \\; N = max\\{S, 2D\\}$"
   ]
  },
  {
   "cell_type": "markdown",
   "metadata": {},
   "source": [
    "Along to the example above, change S to 4, let's see what will happen.\n",
    "$$\n",
    "S = 4\\\\\n",
    "N = 4\n",
    "$$"
   ]
  },
  {
   "cell_type": "markdown",
   "metadata": {},
   "source": [
    "$$\n",
    "\\begin{align*}\n",
    "|W_\\uparrow \\rangle &= \\frac{1}{\\sqrt{2^4}} \\left( \n",
    "    \\sqrt{\\frac{5!}{0!5!}} |0\\rangle + \n",
    "    \\sqrt{\\frac{5!}{2!3!}} |2\\times 4 \\rangle +\n",
    "    \\sqrt{\\frac{5!}{4!1!}} |4 \\times 4 \\rangle\n",
    " \\right) \\\\\n",
    " &= \\frac{|0\\rangle + \\sqrt{10}|8 \\rangle + \\sqrt{5}|16 \\rangle}{4} \\\\\n",
    " |W_{\\downarrow} \\rangle &= \\frac{\\sqrt{5} |4 \\rangle + \\sqrt{10} |12 \\rangle + |20 \\rangle}{4} \n",
    "\\end{align*}\n",
    "$$"
   ]
  },
  {
   "cell_type": "code",
   "execution_count": 27,
   "metadata": {},
   "outputs": [
    {
     "data": {
      "text/plain": [
       "True"
      ]
     },
     "execution_count": 27,
     "metadata": {},
     "output_type": "execute_result"
    }
   ],
   "source": [
    "# a_dag^4 (4 photon events)\n",
    "up_normalz_coeff = 1 * (0) + 10 * (8 * 7 * 6 * 5) + 5 * (16 * 15 * 14 * 13)\n",
    "down_normalz_coeff = 5 * (4 * 3 * 2 * 1) + 10 * (12 * 11 * 10 * 9) + 1 * (20 * 19 * 18 * 17)\n",
    "isEqual = not bool(up_normalz_coeff - down_normalz_coeff)\n",
    "isEqual"
   ]
  },
  {
   "cell_type": "code",
   "execution_count": null,
   "metadata": {},
   "outputs": [],
   "source": []
  }
 ],
 "metadata": {
  "interpreter": {
   "hash": "b1aeebb7feeec2c3dc79c20a7ba6db3b84fbcac692e7548f9e4f0cbc0517b626"
  },
  "kernelspec": {
   "display_name": "Python 3.9.7 ('QEDA')",
   "language": "python",
   "name": "python3"
  },
  "language_info": {
   "codemirror_mode": {
    "name": "ipython",
    "version": 3
   },
   "file_extension": ".py",
   "mimetype": "text/x-python",
   "name": "python",
   "nbconvert_exporter": "python",
   "pygments_lexer": "ipython3",
   "version": "3.8.8"
  },
  "orig_nbformat": 4
 },
 "nbformat": 4,
 "nbformat_minor": 2
}
