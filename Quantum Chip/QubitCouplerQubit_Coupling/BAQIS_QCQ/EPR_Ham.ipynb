{
 "cells": [
  {
   "cell_type": "markdown",
   "id": "6296ea57",
   "metadata": {},
   "source": [
    "# 对EPR结果进行哈密顿量建模"
   ]
  },
  {
   "cell_type": "code",
   "execution_count": 12,
   "id": "a8c58f71",
   "metadata": {},
   "outputs": [],
   "source": [
    "from qutip import destroy, qeye, tensor\n",
    "import matplotlib.pyplot as plt\n",
    "import numpy as np"
   ]
  },
  {
   "cell_type": "markdown",
   "id": "020ebd2d",
   "metadata": {},
   "source": [
    "## EPR结果"
   ]
  },
  {
   "cell_type": "code",
   "execution_count": 13,
   "id": "c5306f36",
   "metadata": {},
   "outputs": [],
   "source": [
    "# Eigenmode(MHz)\n",
    "freq_q1 = 3653.566376\n",
    "freq_q1 = 5208.970653\n",
    "freq_q2 = 5208.970653\n",
    "freq_c = 7990.057108"
   ]
  },
  {
   "cell_type": "code",
   "execution_count": 14,
   "id": "1f3d2e07",
   "metadata": {},
   "outputs": [],
   "source": [
    "# Kerr 系数(MHz)\n",
    "# self-Kerr\n",
    "alpha_q1 = 202.007657\n",
    "alpha_q2 = 202.892431\n",
    "alpha_c = 233.645796\n",
    "# cross-Kerr\n",
    "chi_q1q2 = 0.003062\n",
    "chi_q1c = 0.274642\n",
    "chi_q2c = 0.901924"
   ]
  },
  {
   "cell_type": "code",
   "execution_count": 15,
   "id": "e0f266c2",
   "metadata": {},
   "outputs": [],
   "source": [
    "# Lamb shift\n",
    "Delta_q1 = alpha_q1 + chi_q1q2/2 + chi_q1c/2\n",
    "Delta_q2 = alpha_q2 + chi_q1q2/2 + chi_q2c/2\n",
    "Delta_c = alpha_c + chi_q1c/2 + chi_q2c/2"
   ]
  },
  {
   "cell_type": "markdown",
   "id": "07e9b7e7",
   "metadata": {},
   "source": [
    "## 构建哈密顿量"
   ]
  },
  {
   "cell_type": "code",
   "execution_count": 16,
   "id": "73ed434b",
   "metadata": {},
   "outputs": [],
   "source": [
    "# 单体希尔伯特空间维度\n",
    "N = 2"
   ]
  },
  {
   "cell_type": "code",
   "execution_count": 17,
   "id": "3d3319a7",
   "metadata": {},
   "outputs": [],
   "source": [
    "# 构建湮灭、创生算符\n",
    "a = destroy(N)\n",
    "a_dag = a.dag()\n",
    "# 单位算符\n",
    "I = qeye(N)"
   ]
  },
  {
   "cell_type": "code",
   "execution_count": 18,
   "id": "a607d7c8",
   "metadata": {},
   "outputs": [],
   "source": [
    "# 构建多体系统算符\n",
    "a_q1 = tensor([a, I, I])\n",
    "a_q1_dag = a_q1.dag()\n",
    "\n",
    "a_q2 = tensor([I, a, I])\n",
    "a_q2_dag = a_q2.dag()\n",
    "\n",
    "a_c = tensor([I, I, a])\n",
    "a_c_dag = a_c.dag()"
   ]
  },
  {
   "cell_type": "code",
   "execution_count": 23,
   "id": "b37e3d3e",
   "metadata": {},
   "outputs": [
    {
     "data": {
      "text/latex": [
       "Quantum object: dims = [[2, 2, 2], [2, 2, 2]], shape = (8, 8), type = oper, isherm = True\\begin{equation*}\\left(\\begin{array}{*{11}c}0.0 & 0.0 & 0.0 & 0.0 & 0.0 & 0.0 & 0.0 & 0.0\\\\0.0 & 7.990\\times10^{+03} & 0.0 & 0.0 & 0.0 & 0.0 & 0.0 & 0.0\\\\0.0 & 0.0 & 5.209\\times10^{+03} & 0.0 & 0.0 & 0.0 & 0.0 & 0.0\\\\0.0 & 0.0 & 0.0 & 1.320\\times10^{+04} & 0.0 & 0.0 & 0.0 & 0.0\\\\0.0 & 0.0 & 0.0 & 0.0 & 5.209\\times10^{+03} & 0.0 & 0.0 & 0.0\\\\0.0 & 0.0 & 0.0 & 0.0 & 0.0 & 1.320\\times10^{+04} & 0.0 & 0.0\\\\0.0 & 0.0 & 0.0 & 0.0 & 0.0 & 0.0 & 1.042\\times10^{+04} & 0.0\\\\0.0 & 0.0 & 0.0 & 0.0 & 0.0 & 0.0 & 0.0 & 1.841\\times10^{+04}\\\\\\end{array}\\right)\\end{equation*}"
      ],
      "text/plain": [
       "Quantum object: dims = [[2, 2, 2], [2, 2, 2]], shape = (8, 8), type = oper, isherm = True\n",
       "Qobj data =\n",
       "[[    0.           0.           0.           0.           0.\n",
       "      0.           0.           0.      ]\n",
       " [    0.        7990.057108     0.           0.           0.\n",
       "      0.           0.           0.      ]\n",
       " [    0.           0.        5208.970653     0.           0.\n",
       "      0.           0.           0.      ]\n",
       " [    0.           0.           0.       13199.027761     0.\n",
       "      0.           0.           0.      ]\n",
       " [    0.           0.           0.           0.        5208.970653\n",
       "      0.           0.           0.      ]\n",
       " [    0.           0.           0.           0.           0.\n",
       "  13199.027761     0.           0.      ]\n",
       " [    0.           0.           0.           0.           0.\n",
       "      0.       10417.941306     0.      ]\n",
       " [    0.           0.           0.           0.           0.\n",
       "      0.           0.       18407.998414]]"
      ]
     },
     "execution_count": 23,
     "metadata": {},
     "output_type": "execute_result"
    }
   ],
   "source": [
    "# 哈密顿量线性部分\n",
    "H_lin = freq_q1 * a_q1_dag * a_q1 + freq_q2 * a_q2_dag * a_q2 + freq_c * a_c_dag * a_c\n",
    "H_lin"
   ]
  },
  {
   "cell_type": "code",
   "execution_count": 20,
   "id": "1a998919",
   "metadata": {},
   "outputs": [
    {
     "data": {
      "text/latex": [
       "Quantum object: dims = [[2, 2, 2], [2, 2, 2]], shape = (8, 8), type = oper, isherm = True\\begin{equation*}\\left(\\begin{array}{*{11}c}0.0 & 0.0 & 0.0 & 0.0 & 0.0 & 0.0 & 0.0 & 0.0\\\\0.0 & -234.234 & 0.0 & 0.0 & 0.0 & 0.0 & 0.0 & 0.0\\\\0.0 & 0.0 & -203.345 & 0.0 & 0.0 & 0.0 & 0.0 & 0.0\\\\0.0 & 0.0 & 0.0 & -436.677 & 0.0 & 0.0 & 0.0 & 0.0\\\\0.0 & 0.0 & 0.0 & 0.0 & -202.147 & 0.0 & 0.0 & 0.0\\\\0.0 & 0.0 & 0.0 & 0.0 & 0.0 & -436.106 & 0.0 & 0.0\\\\0.0 & 0.0 & 0.0 & 0.0 & 0.0 & 0.0 & -405.488 & 0.0\\\\0.0 & 0.0 & 0.0 & 0.0 & 0.0 & 0.0 & 0.0 & -638.546\\\\\\end{array}\\right)\\end{equation*}"
      ],
      "text/plain": [
       "Quantum object: dims = [[2, 2, 2], [2, 2, 2]], shape = (8, 8), type = oper, isherm = True\n",
       "Qobj data =\n",
       "[[   0.          0.          0.          0.          0.          0.\n",
       "     0.          0.      ]\n",
       " [   0.       -234.234079    0.          0.          0.          0.\n",
       "     0.          0.      ]\n",
       " [   0.          0.       -203.344924    0.          0.          0.\n",
       "     0.          0.      ]\n",
       " [   0.          0.          0.       -436.677079    0.          0.\n",
       "     0.          0.      ]\n",
       " [   0.          0.          0.          0.       -202.146509    0.\n",
       "     0.          0.      ]\n",
       " [   0.          0.          0.          0.          0.       -436.105946\n",
       "     0.          0.      ]\n",
       " [   0.          0.          0.          0.          0.          0.\n",
       "  -405.488371    0.      ]\n",
       " [   0.          0.          0.          0.          0.          0.\n",
       "     0.       -638.545884]]"
      ]
     },
     "execution_count": 20,
     "metadata": {},
     "output_type": "execute_result"
    }
   ],
   "source": [
    "# 哈密顿量非线性部分\n",
    "H_nl = -(Delta_q1 * a_q1_dag * a_q1 + Delta_q2 * a_q2_dag * a_q2 + Delta_c * a_c_dag * a_c) + (alpha_q1/2 * a_q1_dag**2 * a_q1**2 + alpha_q2/2 * a_q2_dag**2 * a_q2**2 + alpha_c/2 * a_c_dag**2 * a_c**2) + chi_q1q2 * a_q1_dag * a_q2_dag * a_q1 * a_q2 + chi_q1c * a_q1_dag * a_c_dag * a_q1 * a_c + chi_q2c * a_q2_dag * a_c_dag * a_q2 * a_c\n",
    "H_nl"
   ]
  },
  {
   "cell_type": "code",
   "execution_count": 21,
   "id": "53c46328",
   "metadata": {},
   "outputs": [
    {
     "data": {
      "text/latex": [
       "Quantum object: dims = [[2, 2, 2], [2, 2, 2]], shape = (8, 8), type = oper, isherm = True\\begin{equation*}\\left(\\begin{array}{*{11}c}0.0 & 0.0 & 0.0 & 0.0 & 0.0 & 0.0 & 0.0 & 0.0\\\\0.0 & 7.756\\times10^{+03} & 0.0 & 0.0 & 0.0 & 0.0 & 0.0 & 0.0\\\\0.0 & 0.0 & 5.006\\times10^{+03} & 0.0 & 0.0 & 0.0 & 0.0 & 0.0\\\\0.0 & 0.0 & 0.0 & 1.276\\times10^{+04} & 0.0 & 0.0 & 0.0 & 0.0\\\\0.0 & 0.0 & 0.0 & 0.0 & 5.007\\times10^{+03} & 0.0 & 0.0 & 0.0\\\\0.0 & 0.0 & 0.0 & 0.0 & 0.0 & 1.276\\times10^{+04} & 0.0 & 0.0\\\\0.0 & 0.0 & 0.0 & 0.0 & 0.0 & 0.0 & 1.001\\times10^{+04} & 0.0\\\\0.0 & 0.0 & 0.0 & 0.0 & 0.0 & 0.0 & 0.0 & 1.777\\times10^{+04}\\\\\\end{array}\\right)\\end{equation*}"
      ],
      "text/plain": [
       "Quantum object: dims = [[2, 2, 2], [2, 2, 2]], shape = (8, 8), type = oper, isherm = True\n",
       "Qobj data =\n",
       "[[    0.           0.           0.           0.           0.\n",
       "      0.           0.           0.      ]\n",
       " [    0.        7755.823029     0.           0.           0.\n",
       "      0.           0.           0.      ]\n",
       " [    0.           0.        5005.625729     0.           0.\n",
       "      0.           0.           0.      ]\n",
       " [    0.           0.           0.       12762.350682     0.\n",
       "      0.           0.           0.      ]\n",
       " [    0.           0.           0.           0.        5006.824144\n",
       "      0.           0.           0.      ]\n",
       " [    0.           0.           0.           0.           0.\n",
       "  12762.921815     0.           0.      ]\n",
       " [    0.           0.           0.           0.           0.\n",
       "      0.       10012.452935     0.      ]\n",
       " [    0.           0.           0.           0.           0.\n",
       "      0.           0.       17769.45253 ]]"
      ]
     },
     "execution_count": 21,
     "metadata": {},
     "output_type": "execute_result"
    }
   ],
   "source": [
    "# 总哈密顿量\n",
    "H_full = H_lin + H_nl\n",
    "H_full"
   ]
  },
  {
   "cell_type": "code",
   "execution_count": 22,
   "id": "31d1325a",
   "metadata": {},
   "outputs": [
    {
     "data": {
      "text/plain": [
       "array([    0.      ,  5005.625729,  5006.824144,  7755.823029,\n",
       "       10012.452935, 12762.350682, 12762.921815, 17769.45253 ])"
      ]
     },
     "execution_count": 22,
     "metadata": {},
     "output_type": "execute_result"
    }
   ],
   "source": [
    "# 求能级\n",
    "energies = H_full.eigenenergies()\n",
    "energies"
   ]
  },
  {
   "cell_type": "code",
   "execution_count": null,
   "id": "e62d2e1e",
   "metadata": {},
   "outputs": [],
   "source": []
  }
 ],
 "metadata": {
  "kernelspec": {
   "display_name": "Python 3 (ipykernel)",
   "language": "python",
   "name": "python3"
  },
  "language_info": {
   "codemirror_mode": {
    "name": "ipython",
    "version": 3
   },
   "file_extension": ".py",
   "mimetype": "text/x-python",
   "name": "python",
   "nbconvert_exporter": "python",
   "pygments_lexer": "ipython3",
   "version": "3.9.7"
  }
 },
 "nbformat": 4,
 "nbformat_minor": 5
}
