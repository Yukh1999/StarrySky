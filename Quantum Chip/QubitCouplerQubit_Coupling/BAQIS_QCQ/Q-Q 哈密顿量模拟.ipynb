{
 "cells": [
  {
   "cell_type": "markdown",
   "id": "6296ea57",
   "metadata": {},
   "source": [
    "# Q-Q 哈密顿量模拟\n",
    "\n",
    "含有两个Qubit的结构，验证其耦合强度如何影响本征频率"
   ]
  },
  {
   "cell_type": "code",
   "execution_count": 1,
   "id": "a8c58f71",
   "metadata": {},
   "outputs": [],
   "source": [
    "from qutip import destroy, qeye, tensor\n",
    "import matplotlib.pyplot as plt\n",
    "import numpy as np"
   ]
  },
  {
   "cell_type": "markdown",
   "id": "020ebd2d",
   "metadata": {},
   "source": [
    "## EPR结果"
   ]
  },
  {
   "cell_type": "code",
   "execution_count": 2,
   "id": "c5306f36",
   "metadata": {},
   "outputs": [],
   "source": [
    "# Eigenmode(MHz)\n",
    "freq_q1 = 5000\n",
    "freq_q2 = 5000"
   ]
  },
  {
   "cell_type": "code",
   "execution_count": 3,
   "id": "1f3d2e07",
   "metadata": {},
   "outputs": [],
   "source": [
    "# Coupling Strength\n",
    "g = 10"
   ]
  },
  {
   "cell_type": "markdown",
   "id": "07e9b7e7",
   "metadata": {},
   "source": [
    "## 构建哈密顿量"
   ]
  },
  {
   "cell_type": "code",
   "execution_count": 4,
   "id": "73ed434b",
   "metadata": {},
   "outputs": [],
   "source": [
    "# 单体希尔伯特空间维度\n",
    "N = 2"
   ]
  },
  {
   "cell_type": "code",
   "execution_count": 5,
   "id": "3d3319a7",
   "metadata": {},
   "outputs": [],
   "source": [
    "# 构建湮灭、创生算符\n",
    "a = destroy(N)\n",
    "a_dag = a.dag()\n",
    "# 单位算符\n",
    "I = qeye(N)"
   ]
  },
  {
   "cell_type": "code",
   "execution_count": 6,
   "id": "a607d7c8",
   "metadata": {},
   "outputs": [],
   "source": [
    "# 构建多体系统算符\n",
    "a_q1 = tensor([a, I, I])\n",
    "a_q1_dag = a_q1.dag()\n",
    "\n",
    "a_q2 = tensor([I, a, I])\n",
    "a_q2_dag = a_q2.dag()"
   ]
  },
  {
   "cell_type": "code",
   "execution_count": 7,
   "id": "b37e3d3e",
   "metadata": {},
   "outputs": [
    {
     "data": {
      "text/latex": [
       "Quantum object: dims = [[2, 2, 2], [2, 2, 2]], shape = (8, 8), type = oper, isherm = True\\begin{equation*}\\left(\\begin{array}{*{11}c}0.0 & 0.0 & 0.0 & 0.0 & 0.0 & 0.0 & 0.0 & 0.0\\\\0.0 & 0.0 & 0.0 & 0.0 & 0.0 & 0.0 & 0.0 & 0.0\\\\0.0 & 0.0 & 5.000\\times10^{+03} & 0.0 & 10.0 & 0.0 & 0.0 & 0.0\\\\0.0 & 0.0 & 0.0 & 5.000\\times10^{+03} & 0.0 & 10.0 & 0.0 & 0.0\\\\0.0 & 0.0 & 10.0 & 0.0 & 5.000\\times10^{+03} & 0.0 & 0.0 & 0.0\\\\0.0 & 0.0 & 0.0 & 10.0 & 0.0 & 5.000\\times10^{+03} & 0.0 & 0.0\\\\0.0 & 0.0 & 0.0 & 0.0 & 0.0 & 0.0 & 1.000\\times10^{+04} & 0.0\\\\0.0 & 0.0 & 0.0 & 0.0 & 0.0 & 0.0 & 0.0 & 1.000\\times10^{+04}\\\\\\end{array}\\right)\\end{equation*}"
      ],
      "text/plain": [
       "Quantum object: dims = [[2, 2, 2], [2, 2, 2]], shape = (8, 8), type = oper, isherm = True\n",
       "Qobj data =\n",
       "[[    0.     0.     0.     0.     0.     0.     0.     0.]\n",
       " [    0.     0.     0.     0.     0.     0.     0.     0.]\n",
       " [    0.     0.  5000.     0.    10.     0.     0.     0.]\n",
       " [    0.     0.     0.  5000.     0.    10.     0.     0.]\n",
       " [    0.     0.    10.     0.  5000.     0.     0.     0.]\n",
       " [    0.     0.     0.    10.     0.  5000.     0.     0.]\n",
       " [    0.     0.     0.     0.     0.     0. 10000.     0.]\n",
       " [    0.     0.     0.     0.     0.     0.     0. 10000.]]"
      ]
     },
     "execution_count": 7,
     "metadata": {},
     "output_type": "execute_result"
    }
   ],
   "source": [
    "# 哈密顿量线性部分\n",
    "Ham = freq_q1 * a_q1_dag * a_q1 + freq_q2 * a_q2_dag * a_q2 + g * (a_q1_dag * a_q2 + a_q1 * a_q2_dag)\n",
    "Ham"
   ]
  },
  {
   "cell_type": "code",
   "execution_count": 9,
   "id": "1a998919",
   "metadata": {},
   "outputs": [
    {
     "data": {
      "text/plain": [
       "array([    0.,     0.,  4990.,  4990.,  5010.,  5010., 10000., 10000.])"
      ]
     },
     "execution_count": 9,
     "metadata": {},
     "output_type": "execute_result"
    }
   ],
   "source": [
    "# 哈密顿量非线性部分\n",
    "Ham.eigenenergies()"
   ]
  },
  {
   "cell_type": "code",
   "execution_count": 10,
   "id": "e62d2e1e",
   "metadata": {},
   "outputs": [
    {
     "data": {
      "text/plain": [
       "10.0"
      ]
     },
     "execution_count": 10,
     "metadata": {},
     "output_type": "execute_result"
    }
   ],
   "source": [
    "# Normal mode 方法\n",
    "freq_q1_nm = 4990\n",
    "freq_q2_nm = 5010\n",
    "g = np.sqrt(((freq_q1_nm ** 2 - freq_q2_nm ** 2)**2 - (freq_q1 **2 - freq_q2 **2)**2) / (16 * freq_q1 * freq_q2))\n",
    "g"
   ]
  },
  {
   "cell_type": "markdown",
   "id": "fbea0723",
   "metadata": {},
   "source": [
    "**结果**\n",
    "\n",
    "- Normal Mode方法与哈密顿量对角化方法得到的结果一致\n",
    "\n",
    "$$g = \\sqrt{\\frac{(\\tilde \\omega_0^2 - \\tilde \\omega_1^2)^2 - (\\omega_0^2 - \\omega_1^2)^2}{16\\omega_0 \\omega_1}}$$"
   ]
  },
  {
   "cell_type": "code",
   "execution_count": null,
   "id": "e424f734",
   "metadata": {},
   "outputs": [],
   "source": []
  }
 ],
 "metadata": {
  "kernelspec": {
   "display_name": "Python 3 (ipykernel)",
   "language": "python",
   "name": "python3"
  },
  "language_info": {
   "codemirror_mode": {
    "name": "ipython",
    "version": 3
   },
   "file_extension": ".py",
   "mimetype": "text/x-python",
   "name": "python",
   "nbconvert_exporter": "python",
   "pygments_lexer": "ipython3",
   "version": "3.9.10"
  }
 },
 "nbformat": 4,
 "nbformat_minor": 5
}
