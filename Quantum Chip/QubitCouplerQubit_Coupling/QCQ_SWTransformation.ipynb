{
 "cells": [
  {
   "cell_type": "markdown",
   "id": "9df55444",
   "metadata": {},
   "source": [
    "# QCQ SW 变换"
   ]
  },
  {
   "cell_type": "markdown",
   "id": "493e1165",
   "metadata": {},
   "source": [
    "## Coupler in the dispersive regime"
   ]
  },
  {
   "cell_type": "code",
   "execution_count": 103,
   "id": "124c15dd",
   "metadata": {},
   "outputs": [],
   "source": [
    "# 导入必要的包\n",
    "from sympy.physics.quantum import *\n",
    "from sympy import symbols, Rational, exp, simplify, expand\n",
    "from sympy.abc import x, y"
   ]
  },
  {
   "cell_type": "code",
   "execution_count": 87,
   "id": "371cf629",
   "metadata": {},
   "outputs": [],
   "source": [
    "# 定义算符\n",
    "sigma1, sigma2, sigma3 = [Operator(f'sigma_{i}') for i in range(1, 4)]\n",
    "I = IdentityOperator()\n",
    "sigma1 = TensorProduct(sigma1, I, I)\n",
    "sigma2 = TensorProduct(I, sigma2, I)\n",
    "sigma3 = TensorProduct(I, I, sigma3)\n",
    "sigma1_dag = Dagger(sigma1)\n",
    "sigma2_dag = Dagger(sigma2)\n",
    "sigma3_dag = Dagger(sigma3)"
   ]
  },
  {
   "cell_type": "code",
   "execution_count": 88,
   "id": "448667e9",
   "metadata": {},
   "outputs": [
    {
     "data": {
      "text/latex": [
       "$\\displaystyle {\\sigma_{1}}\\otimes {{\\mathcal{I}}}\\otimes {{\\mathcal{I}}}$"
      ],
      "text/plain": [
       "sigma_1xIxI"
      ]
     },
     "execution_count": 88,
     "metadata": {},
     "output_type": "execute_result"
    }
   ],
   "source": [
    "sigma1"
   ]
  },
  {
   "cell_type": "code",
   "execution_count": 89,
   "id": "eb7a3cf2",
   "metadata": {},
   "outputs": [],
   "source": [
    "omega1, omega2, omega3 = symbols('omega_1 omega_2 omega_3')"
   ]
  },
  {
   "cell_type": "code",
   "execution_count": 90,
   "id": "60b496e3",
   "metadata": {},
   "outputs": [],
   "source": [
    "g12, g13, g23 = symbols('g_12 g_13 g_23')"
   ]
  },
  {
   "cell_type": "code",
   "execution_count": 91,
   "id": "d82c8f67",
   "metadata": {},
   "outputs": [],
   "source": [
    "coeff = Rational(1, 2)"
   ]
  },
  {
   "cell_type": "code",
   "execution_count": 92,
   "id": "71f22c84",
   "metadata": {},
   "outputs": [],
   "source": [
    "# 构建哈密顿量\n",
    "H =  omega1 * sigma1_dag * sigma1 +  omega2 * sigma2_dag * sigma2 \\\n",
    "  +  omega3 * sigma3_dag * sigma3 \\\n",
    "  + g12 * (sigma1 * sigma2_dag + sigma2 * sigma1_dag) \\\n",
    "  + g13 * (sigma1 * sigma3_dag + sigma3 * sigma1_dag) \\\n",
    "  + g23 * (sigma2 * sigma3_dag + sigma3 * sigma2_dag)"
   ]
  },
  {
   "cell_type": "code",
   "execution_count": 93,
   "id": "d062bd83",
   "metadata": {},
   "outputs": [
    {
     "data": {
      "text/latex": [
       "$\\displaystyle g_{12} \\left({{\\mathcal{I}}}\\otimes {\\sigma_{2}}\\otimes {{\\mathcal{I}}} {\\sigma_{1}^{\\dagger}}\\otimes {{\\mathcal{I}}}\\otimes {{\\mathcal{I}}} + {\\sigma_{1}}\\otimes {{\\mathcal{I}}}\\otimes {{\\mathcal{I}}} {{\\mathcal{I}}}\\otimes {\\sigma_{2}^{\\dagger}}\\otimes {{\\mathcal{I}}}\\right) + g_{13} \\left({{\\mathcal{I}}}\\otimes {{\\mathcal{I}}}\\otimes {\\sigma_{3}} {\\sigma_{1}^{\\dagger}}\\otimes {{\\mathcal{I}}}\\otimes {{\\mathcal{I}}} + {\\sigma_{1}}\\otimes {{\\mathcal{I}}}\\otimes {{\\mathcal{I}}} {{\\mathcal{I}}}\\otimes {{\\mathcal{I}}}\\otimes {\\sigma_{3}^{\\dagger}}\\right) + g_{23} \\left({{\\mathcal{I}}}\\otimes {{\\mathcal{I}}}\\otimes {\\sigma_{3}} {{\\mathcal{I}}}\\otimes {\\sigma_{2}^{\\dagger}}\\otimes {{\\mathcal{I}}} + {{\\mathcal{I}}}\\otimes {\\sigma_{2}}\\otimes {{\\mathcal{I}}} {{\\mathcal{I}}}\\otimes {{\\mathcal{I}}}\\otimes {\\sigma_{3}^{\\dagger}}\\right) + \\omega_{1} {\\sigma_{1}^{\\dagger}}\\otimes {{\\mathcal{I}}}\\otimes {{\\mathcal{I}}} {\\sigma_{1}}\\otimes {{\\mathcal{I}}}\\otimes {{\\mathcal{I}}} + \\omega_{2} {{\\mathcal{I}}}\\otimes {\\sigma_{2}^{\\dagger}}\\otimes {{\\mathcal{I}}} {{\\mathcal{I}}}\\otimes {\\sigma_{2}}\\otimes {{\\mathcal{I}}} + \\omega_{3} {{\\mathcal{I}}}\\otimes {{\\mathcal{I}}}\\otimes {\\sigma_{3}^{\\dagger}} {{\\mathcal{I}}}\\otimes {{\\mathcal{I}}}\\otimes {\\sigma_{3}}$"
      ],
      "text/plain": [
       "g_12*(Ixsigma_2xI*Dagger(sigma_1)xIxI + sigma_1xIxI*IxDagger(sigma_2)xI) + g_13*(IxIxsigma_3*Dagger(sigma_1)xIxI + sigma_1xIxI*IxIxDagger(sigma_3)) + g_23*(IxIxsigma_3*IxDagger(sigma_2)xI + Ixsigma_2xI*IxIxDagger(sigma_3)) + omega_1*Dagger(sigma_1)xIxI*sigma_1xIxI + omega_2*IxDagger(sigma_2)xI*Ixsigma_2xI + omega_3*IxIxDagger(sigma_3)*IxIxsigma_3"
      ]
     },
     "execution_count": 93,
     "metadata": {},
     "output_type": "execute_result"
    }
   ],
   "source": [
    "simplify(H)"
   ]
  },
  {
   "cell_type": "code",
   "execution_count": 95,
   "id": "784b6b50",
   "metadata": {},
   "outputs": [],
   "source": [
    "delta1 = omega1 - omega3\n",
    "delta2 = omega2 - omega3"
   ]
  },
  {
   "cell_type": "code",
   "execution_count": 96,
   "id": "a6e4bb3d",
   "metadata": {},
   "outputs": [],
   "source": [
    "S = (g13 / delta1) * (sigma1_dag * sigma3 - sigma1 * sigma3_dag) \\\n",
    "  + (g23 / delta2) * (sigma2_dag * sigma3 - sigma2 * sigma3_dag)"
   ]
  },
  {
   "cell_type": "code",
   "execution_count": 97,
   "id": "1f467e15",
   "metadata": {},
   "outputs": [
    {
     "data": {
      "text/latex": [
       "$\\displaystyle \\frac{g_{13} \\left({\\sigma_{1}^{\\dagger}}\\otimes {{\\mathcal{I}}}\\otimes {{\\mathcal{I}}} {{\\mathcal{I}}}\\otimes {{\\mathcal{I}}}\\otimes {\\sigma_{3}} - {\\sigma_{1}}\\otimes {{\\mathcal{I}}}\\otimes {{\\mathcal{I}}} {{\\mathcal{I}}}\\otimes {{\\mathcal{I}}}\\otimes {\\sigma_{3}^{\\dagger}}\\right)}{\\omega_{1} - \\omega_{3}} + \\frac{g_{23} \\left({{\\mathcal{I}}}\\otimes {\\sigma_{2}^{\\dagger}}\\otimes {{\\mathcal{I}}} {{\\mathcal{I}}}\\otimes {{\\mathcal{I}}}\\otimes {\\sigma_{3}} - {{\\mathcal{I}}}\\otimes {\\sigma_{2}}\\otimes {{\\mathcal{I}}} {{\\mathcal{I}}}\\otimes {{\\mathcal{I}}}\\otimes {\\sigma_{3}^{\\dagger}}\\right)}{\\omega_{2} - \\omega_{3}}$"
      ],
      "text/plain": [
       "g_13*(Dagger(sigma_1)xIxI*IxIxsigma_3 - sigma_1xIxI*IxIxDagger(sigma_3))/(omega_1 - omega_3) + g_23*(IxDagger(sigma_2)xI*IxIxsigma_3 - Ixsigma_2xI*IxIxDagger(sigma_3))/(omega_2 - omega_3)"
      ]
     },
     "execution_count": 97,
     "metadata": {},
     "output_type": "execute_result"
    }
   ],
   "source": [
    "S"
   ]
  },
  {
   "cell_type": "code",
   "execution_count": 98,
   "id": "1ed2c424",
   "metadata": {},
   "outputs": [
    {
     "data": {
      "text/latex": [
       "$\\displaystyle \\frac{\\left(g_{13} \\left(\\omega_{2} - \\omega_{3}\\right) \\left({\\sigma_{1}^{\\dagger}}\\otimes {{\\mathcal{I}}}\\otimes {{\\mathcal{I}}} {{\\mathcal{I}}}\\otimes {{\\mathcal{I}}}\\otimes {\\sigma_{3}} - {\\sigma_{1}}\\otimes {{\\mathcal{I}}}\\otimes {{\\mathcal{I}}} {{\\mathcal{I}}}\\otimes {{\\mathcal{I}}}\\otimes {\\sigma_{3}^{\\dagger}}\\right) + g_{23} \\left(\\omega_{1} - \\omega_{3}\\right) \\left({{\\mathcal{I}}}\\otimes {\\sigma_{2}^{\\dagger}}\\otimes {{\\mathcal{I}}} {{\\mathcal{I}}}\\otimes {{\\mathcal{I}}}\\otimes {\\sigma_{3}} - {{\\mathcal{I}}}\\otimes {\\sigma_{2}}\\otimes {{\\mathcal{I}}} {{\\mathcal{I}}}\\otimes {{\\mathcal{I}}}\\otimes {\\sigma_{3}^{\\dagger}}\\right)\\right) \\left(g_{12} \\left({{\\mathcal{I}}}\\otimes {\\sigma_{2}}\\otimes {{\\mathcal{I}}} {\\sigma_{1}^{\\dagger}}\\otimes {{\\mathcal{I}}}\\otimes {{\\mathcal{I}}} + {\\sigma_{1}}\\otimes {{\\mathcal{I}}}\\otimes {{\\mathcal{I}}} {{\\mathcal{I}}}\\otimes {\\sigma_{2}^{\\dagger}}\\otimes {{\\mathcal{I}}}\\right) + g_{13} \\left({{\\mathcal{I}}}\\otimes {{\\mathcal{I}}}\\otimes {\\sigma_{3}} {\\sigma_{1}^{\\dagger}}\\otimes {{\\mathcal{I}}}\\otimes {{\\mathcal{I}}} + {\\sigma_{1}}\\otimes {{\\mathcal{I}}}\\otimes {{\\mathcal{I}}} {{\\mathcal{I}}}\\otimes {{\\mathcal{I}}}\\otimes {\\sigma_{3}^{\\dagger}}\\right) + g_{23} \\left({{\\mathcal{I}}}\\otimes {{\\mathcal{I}}}\\otimes {\\sigma_{3}} {{\\mathcal{I}}}\\otimes {\\sigma_{2}^{\\dagger}}\\otimes {{\\mathcal{I}}} + {{\\mathcal{I}}}\\otimes {\\sigma_{2}}\\otimes {{\\mathcal{I}}} {{\\mathcal{I}}}\\otimes {{\\mathcal{I}}}\\otimes {\\sigma_{3}^{\\dagger}}\\right) + \\omega_{1} {\\sigma_{1}^{\\dagger}}\\otimes {{\\mathcal{I}}}\\otimes {{\\mathcal{I}}} {\\sigma_{1}}\\otimes {{\\mathcal{I}}}\\otimes {{\\mathcal{I}}} + \\omega_{2} {{\\mathcal{I}}}\\otimes {\\sigma_{2}^{\\dagger}}\\otimes {{\\mathcal{I}}} {{\\mathcal{I}}}\\otimes {\\sigma_{2}}\\otimes {{\\mathcal{I}}} + \\omega_{3} {{\\mathcal{I}}}\\otimes {{\\mathcal{I}}}\\otimes {\\sigma_{3}^{\\dagger}} {{\\mathcal{I}}}\\otimes {{\\mathcal{I}}}\\otimes {\\sigma_{3}}\\right) - \\left(g_{12} \\left({{\\mathcal{I}}}\\otimes {\\sigma_{2}}\\otimes {{\\mathcal{I}}} {\\sigma_{1}^{\\dagger}}\\otimes {{\\mathcal{I}}}\\otimes {{\\mathcal{I}}} + {\\sigma_{1}}\\otimes {{\\mathcal{I}}}\\otimes {{\\mathcal{I}}} {{\\mathcal{I}}}\\otimes {\\sigma_{2}^{\\dagger}}\\otimes {{\\mathcal{I}}}\\right) + g_{13} \\left({{\\mathcal{I}}}\\otimes {{\\mathcal{I}}}\\otimes {\\sigma_{3}} {\\sigma_{1}^{\\dagger}}\\otimes {{\\mathcal{I}}}\\otimes {{\\mathcal{I}}} + {\\sigma_{1}}\\otimes {{\\mathcal{I}}}\\otimes {{\\mathcal{I}}} {{\\mathcal{I}}}\\otimes {{\\mathcal{I}}}\\otimes {\\sigma_{3}^{\\dagger}}\\right) + g_{23} \\left({{\\mathcal{I}}}\\otimes {{\\mathcal{I}}}\\otimes {\\sigma_{3}} {{\\mathcal{I}}}\\otimes {\\sigma_{2}^{\\dagger}}\\otimes {{\\mathcal{I}}} + {{\\mathcal{I}}}\\otimes {\\sigma_{2}}\\otimes {{\\mathcal{I}}} {{\\mathcal{I}}}\\otimes {{\\mathcal{I}}}\\otimes {\\sigma_{3}^{\\dagger}}\\right) + \\omega_{1} {\\sigma_{1}^{\\dagger}}\\otimes {{\\mathcal{I}}}\\otimes {{\\mathcal{I}}} {\\sigma_{1}}\\otimes {{\\mathcal{I}}}\\otimes {{\\mathcal{I}}} + \\omega_{2} {{\\mathcal{I}}}\\otimes {\\sigma_{2}^{\\dagger}}\\otimes {{\\mathcal{I}}} {{\\mathcal{I}}}\\otimes {\\sigma_{2}}\\otimes {{\\mathcal{I}}} + \\omega_{3} {{\\mathcal{I}}}\\otimes {{\\mathcal{I}}}\\otimes {\\sigma_{3}^{\\dagger}} {{\\mathcal{I}}}\\otimes {{\\mathcal{I}}}\\otimes {\\sigma_{3}}\\right) \\left(g_{13} \\left(\\omega_{2} - \\omega_{3}\\right) \\left({\\sigma_{1}^{\\dagger}}\\otimes {{\\mathcal{I}}}\\otimes {{\\mathcal{I}}} {{\\mathcal{I}}}\\otimes {{\\mathcal{I}}}\\otimes {\\sigma_{3}} - {\\sigma_{1}}\\otimes {{\\mathcal{I}}}\\otimes {{\\mathcal{I}}} {{\\mathcal{I}}}\\otimes {{\\mathcal{I}}}\\otimes {\\sigma_{3}^{\\dagger}}\\right) + g_{23} \\left(\\omega_{1} - \\omega_{3}\\right) \\left({{\\mathcal{I}}}\\otimes {\\sigma_{2}^{\\dagger}}\\otimes {{\\mathcal{I}}} {{\\mathcal{I}}}\\otimes {{\\mathcal{I}}}\\otimes {\\sigma_{3}} - {{\\mathcal{I}}}\\otimes {\\sigma_{2}}\\otimes {{\\mathcal{I}}} {{\\mathcal{I}}}\\otimes {{\\mathcal{I}}}\\otimes {\\sigma_{3}^{\\dagger}}\\right)\\right)}{\\left(\\omega_{1} - \\omega_{3}\\right) \\left(\\omega_{2} - \\omega_{3}\\right)}$"
      ],
      "text/plain": [
       "((g_13*(omega_2 - omega_3)*(Dagger(sigma_1)xIxI*IxIxsigma_3 - sigma_1xIxI*IxIxDagger(sigma_3)) + g_23*(omega_1 - omega_3)*(IxDagger(sigma_2)xI*IxIxsigma_3 - Ixsigma_2xI*IxIxDagger(sigma_3)))*(g_12*(Ixsigma_2xI*Dagger(sigma_1)xIxI + sigma_1xIxI*IxDagger(sigma_2)xI) + g_13*(IxIxsigma_3*Dagger(sigma_1)xIxI + sigma_1xIxI*IxIxDagger(sigma_3)) + g_23*(IxIxsigma_3*IxDagger(sigma_2)xI + Ixsigma_2xI*IxIxDagger(sigma_3)) + omega_1*Dagger(sigma_1)xIxI*sigma_1xIxI + omega_2*IxDagger(sigma_2)xI*Ixsigma_2xI + omega_3*IxIxDagger(sigma_3)*IxIxsigma_3) - (g_12*(Ixsigma_2xI*Dagger(sigma_1)xIxI + sigma_1xIxI*IxDagger(sigma_2)xI) + g_13*(IxIxsigma_3*Dagger(sigma_1)xIxI + sigma_1xIxI*IxIxDagger(sigma_3)) + g_23*(IxIxsigma_3*IxDagger(sigma_2)xI + Ixsigma_2xI*IxIxDagger(sigma_3)) + omega_1*Dagger(sigma_1)xIxI*sigma_1xIxI + omega_2*IxDagger(sigma_2)xI*Ixsigma_2xI + omega_3*IxIxDagger(sigma_3)*IxIxsigma_3)*(g_13*(omega_2 - omega_3)*(Dagger(sigma_1)xIxI*IxIxsigma_3 - sigma_1xIxI*IxIxDagger(sigma_3)) + g_23*(omega_1 - omega_3)*(IxDagger(sigma_2)xI*IxIxsigma_3 - Ixsigma_2xI*IxIxDagger(sigma_3))))/((omega_1 - omega_3)*(omega_2 - omega_3))"
      ]
     },
     "execution_count": 98,
     "metadata": {},
     "output_type": "execute_result"
    }
   ],
   "source": [
    "FirstOrder = Commutator(S, H)\n",
    "simplify(FirstOrder)"
   ]
  },
  {
   "cell_type": "code",
   "execution_count": 99,
   "id": "7b76864a",
   "metadata": {},
   "outputs": [
    {
     "data": {
      "text/latex": [
       "$\\displaystyle \\left[\\frac{g_{13} \\left({\\sigma_{1}^{\\dagger}}\\otimes {{\\mathcal{I}}}\\otimes {{\\mathcal{I}}} {{\\mathcal{I}}}\\otimes {{\\mathcal{I}}}\\otimes {\\sigma_{3}} - {\\sigma_{1}}\\otimes {{\\mathcal{I}}}\\otimes {{\\mathcal{I}}} {{\\mathcal{I}}}\\otimes {{\\mathcal{I}}}\\otimes {\\sigma_{3}^{\\dagger}}\\right)}{\\omega_{1} - \\omega_{3}} + \\frac{g_{23} \\left({{\\mathcal{I}}}\\otimes {\\sigma_{2}^{\\dagger}}\\otimes {{\\mathcal{I}}} {{\\mathcal{I}}}\\otimes {{\\mathcal{I}}}\\otimes {\\sigma_{3}} - {{\\mathcal{I}}}\\otimes {\\sigma_{2}}\\otimes {{\\mathcal{I}}} {{\\mathcal{I}}}\\otimes {{\\mathcal{I}}}\\otimes {\\sigma_{3}^{\\dagger}}\\right)}{\\omega_{2} - \\omega_{3}},\\left[\\frac{g_{13} \\left({\\sigma_{1}^{\\dagger}}\\otimes {{\\mathcal{I}}}\\otimes {{\\mathcal{I}}} {{\\mathcal{I}}}\\otimes {{\\mathcal{I}}}\\otimes {\\sigma_{3}} - {\\sigma_{1}}\\otimes {{\\mathcal{I}}}\\otimes {{\\mathcal{I}}} {{\\mathcal{I}}}\\otimes {{\\mathcal{I}}}\\otimes {\\sigma_{3}^{\\dagger}}\\right)}{\\omega_{1} - \\omega_{3}} + \\frac{g_{23} \\left({{\\mathcal{I}}}\\otimes {\\sigma_{2}^{\\dagger}}\\otimes {{\\mathcal{I}}} {{\\mathcal{I}}}\\otimes {{\\mathcal{I}}}\\otimes {\\sigma_{3}} - {{\\mathcal{I}}}\\otimes {\\sigma_{2}}\\otimes {{\\mathcal{I}}} {{\\mathcal{I}}}\\otimes {{\\mathcal{I}}}\\otimes {\\sigma_{3}^{\\dagger}}\\right)}{\\omega_{2} - \\omega_{3}},g_{12} \\left({{\\mathcal{I}}}\\otimes {\\sigma_{2}}\\otimes {{\\mathcal{I}}} {\\sigma_{1}^{\\dagger}}\\otimes {{\\mathcal{I}}}\\otimes {{\\mathcal{I}}} + {\\sigma_{1}}\\otimes {{\\mathcal{I}}}\\otimes {{\\mathcal{I}}} {{\\mathcal{I}}}\\otimes {\\sigma_{2}^{\\dagger}}\\otimes {{\\mathcal{I}}}\\right) + g_{13} \\left({{\\mathcal{I}}}\\otimes {{\\mathcal{I}}}\\otimes {\\sigma_{3}} {\\sigma_{1}^{\\dagger}}\\otimes {{\\mathcal{I}}}\\otimes {{\\mathcal{I}}} + {\\sigma_{1}}\\otimes {{\\mathcal{I}}}\\otimes {{\\mathcal{I}}} {{\\mathcal{I}}}\\otimes {{\\mathcal{I}}}\\otimes {\\sigma_{3}^{\\dagger}}\\right) + g_{23} \\left({{\\mathcal{I}}}\\otimes {{\\mathcal{I}}}\\otimes {\\sigma_{3}} {{\\mathcal{I}}}\\otimes {\\sigma_{2}^{\\dagger}}\\otimes {{\\mathcal{I}}} + {{\\mathcal{I}}}\\otimes {\\sigma_{2}}\\otimes {{\\mathcal{I}}} {{\\mathcal{I}}}\\otimes {{\\mathcal{I}}}\\otimes {\\sigma_{3}^{\\dagger}}\\right) + \\omega_{1} {\\sigma_{1}^{\\dagger}}\\otimes {{\\mathcal{I}}}\\otimes {{\\mathcal{I}}} {\\sigma_{1}}\\otimes {{\\mathcal{I}}}\\otimes {{\\mathcal{I}}} + \\omega_{2} {{\\mathcal{I}}}\\otimes {\\sigma_{2}^{\\dagger}}\\otimes {{\\mathcal{I}}} {{\\mathcal{I}}}\\otimes {\\sigma_{2}}\\otimes {{\\mathcal{I}}} + \\omega_{3} {{\\mathcal{I}}}\\otimes {{\\mathcal{I}}}\\otimes {\\sigma_{3}^{\\dagger}} {{\\mathcal{I}}}\\otimes {{\\mathcal{I}}}\\otimes {\\sigma_{3}}\\right]\\right]$"
      ],
      "text/plain": [
       "[g_13*(Dagger(sigma_1)xIxI*IxIxsigma_3 - sigma_1xIxI*IxIxDagger(sigma_3))/(omega_1 - omega_3) + g_23*(IxDagger(sigma_2)xI*IxIxsigma_3 - Ixsigma_2xI*IxIxDagger(sigma_3))/(omega_2 - omega_3),[g_13*(Dagger(sigma_1)xIxI*IxIxsigma_3 - sigma_1xIxI*IxIxDagger(sigma_3))/(omega_1 - omega_3) + g_23*(IxDagger(sigma_2)xI*IxIxsigma_3 - Ixsigma_2xI*IxIxDagger(sigma_3))/(omega_2 - omega_3),g_12*(Ixsigma_2xI*Dagger(sigma_1)xIxI + sigma_1xIxI*IxDagger(sigma_2)xI) + g_13*(IxIxsigma_3*Dagger(sigma_1)xIxI + sigma_1xIxI*IxIxDagger(sigma_3)) + g_23*(IxIxsigma_3*IxDagger(sigma_2)xI + Ixsigma_2xI*IxIxDagger(sigma_3)) + omega_1*Dagger(sigma_1)xIxI*sigma_1xIxI + omega_2*IxDagger(sigma_2)xI*Ixsigma_2xI + omega_3*IxIxDagger(sigma_3)*IxIxsigma_3]]"
      ]
     },
     "execution_count": 99,
     "metadata": {},
     "output_type": "execute_result"
    }
   ],
   "source": [
    "SecondOrder = Commutator(S, FirstOrder)\n",
    "SecondOrder"
   ]
  },
  {
   "cell_type": "code",
   "execution_count": 106,
   "id": "229734b2",
   "metadata": {},
   "outputs": [
    {
     "data": {
      "text/latex": [
       "$\\displaystyle g_{12} {{\\mathcal{I}}}\\otimes {\\sigma_{2}}\\otimes {{\\mathcal{I}}} {\\sigma_{1}^{\\dagger}}\\otimes {{\\mathcal{I}}}\\otimes {{\\mathcal{I}}} + g_{12} {\\sigma_{1}}\\otimes {{\\mathcal{I}}}\\otimes {{\\mathcal{I}}} {{\\mathcal{I}}}\\otimes {\\sigma_{2}^{\\dagger}}\\otimes {{\\mathcal{I}}} + g_{13} {{\\mathcal{I}}}\\otimes {{\\mathcal{I}}}\\otimes {\\sigma_{3}} {\\sigma_{1}^{\\dagger}}\\otimes {{\\mathcal{I}}}\\otimes {{\\mathcal{I}}} + g_{13} {\\sigma_{1}}\\otimes {{\\mathcal{I}}}\\otimes {{\\mathcal{I}}} {{\\mathcal{I}}}\\otimes {{\\mathcal{I}}}\\otimes {\\sigma_{3}^{\\dagger}} + g_{23} {{\\mathcal{I}}}\\otimes {{\\mathcal{I}}}\\otimes {\\sigma_{3}} {{\\mathcal{I}}}\\otimes {\\sigma_{2}^{\\dagger}}\\otimes {{\\mathcal{I}}} + g_{23} {{\\mathcal{I}}}\\otimes {\\sigma_{2}}\\otimes {{\\mathcal{I}}} {{\\mathcal{I}}}\\otimes {{\\mathcal{I}}}\\otimes {\\sigma_{3}^{\\dagger}} + \\omega_{1} {\\sigma_{1}^{\\dagger}}\\otimes {{\\mathcal{I}}}\\otimes {{\\mathcal{I}}} {\\sigma_{1}}\\otimes {{\\mathcal{I}}}\\otimes {{\\mathcal{I}}} + \\omega_{2} {{\\mathcal{I}}}\\otimes {\\sigma_{2}^{\\dagger}}\\otimes {{\\mathcal{I}}} {{\\mathcal{I}}}\\otimes {\\sigma_{2}}\\otimes {{\\mathcal{I}}} + \\omega_{3} {{\\mathcal{I}}}\\otimes {{\\mathcal{I}}}\\otimes {\\sigma_{3}^{\\dagger}} {{\\mathcal{I}}}\\otimes {{\\mathcal{I}}}\\otimes {\\sigma_{3}} + \\left[\\frac{g_{13} {\\sigma_{1}^{\\dagger}}\\otimes {{\\mathcal{I}}}\\otimes {{\\mathcal{I}}} {{\\mathcal{I}}}\\otimes {{\\mathcal{I}}}\\otimes {\\sigma_{3}}}{\\omega_{1} - \\omega_{3}} - \\frac{g_{13} {\\sigma_{1}}\\otimes {{\\mathcal{I}}}\\otimes {{\\mathcal{I}}} {{\\mathcal{I}}}\\otimes {{\\mathcal{I}}}\\otimes {\\sigma_{3}^{\\dagger}}}{\\omega_{1} - \\omega_{3}} + \\frac{g_{23} {{\\mathcal{I}}}\\otimes {\\sigma_{2}^{\\dagger}}\\otimes {{\\mathcal{I}}} {{\\mathcal{I}}}\\otimes {{\\mathcal{I}}}\\otimes {\\sigma_{3}}}{\\omega_{2} - \\omega_{3}} - \\frac{g_{23} {{\\mathcal{I}}}\\otimes {\\sigma_{2}}\\otimes {{\\mathcal{I}}} {{\\mathcal{I}}}\\otimes {{\\mathcal{I}}}\\otimes {\\sigma_{3}^{\\dagger}}}{\\omega_{2} - \\omega_{3}},g_{12} {{\\mathcal{I}}}\\otimes {\\sigma_{2}}\\otimes {{\\mathcal{I}}} {\\sigma_{1}^{\\dagger}}\\otimes {{\\mathcal{I}}}\\otimes {{\\mathcal{I}}} + g_{12} {\\sigma_{1}}\\otimes {{\\mathcal{I}}}\\otimes {{\\mathcal{I}}} {{\\mathcal{I}}}\\otimes {\\sigma_{2}^{\\dagger}}\\otimes {{\\mathcal{I}}} + g_{13} {{\\mathcal{I}}}\\otimes {{\\mathcal{I}}}\\otimes {\\sigma_{3}} {\\sigma_{1}^{\\dagger}}\\otimes {{\\mathcal{I}}}\\otimes {{\\mathcal{I}}} + g_{13} {\\sigma_{1}}\\otimes {{\\mathcal{I}}}\\otimes {{\\mathcal{I}}} {{\\mathcal{I}}}\\otimes {{\\mathcal{I}}}\\otimes {\\sigma_{3}^{\\dagger}} + g_{23} {{\\mathcal{I}}}\\otimes {{\\mathcal{I}}}\\otimes {\\sigma_{3}} {{\\mathcal{I}}}\\otimes {\\sigma_{2}^{\\dagger}}\\otimes {{\\mathcal{I}}} + g_{23} {{\\mathcal{I}}}\\otimes {\\sigma_{2}}\\otimes {{\\mathcal{I}}} {{\\mathcal{I}}}\\otimes {{\\mathcal{I}}}\\otimes {\\sigma_{3}^{\\dagger}} + \\omega_{1} {\\sigma_{1}^{\\dagger}}\\otimes {{\\mathcal{I}}}\\otimes {{\\mathcal{I}}} {\\sigma_{1}}\\otimes {{\\mathcal{I}}}\\otimes {{\\mathcal{I}}} + \\omega_{2} {{\\mathcal{I}}}\\otimes {\\sigma_{2}^{\\dagger}}\\otimes {{\\mathcal{I}}} {{\\mathcal{I}}}\\otimes {\\sigma_{2}}\\otimes {{\\mathcal{I}}} + \\omega_{3} {{\\mathcal{I}}}\\otimes {{\\mathcal{I}}}\\otimes {\\sigma_{3}^{\\dagger}} {{\\mathcal{I}}}\\otimes {{\\mathcal{I}}}\\otimes {\\sigma_{3}}\\right]$"
      ],
      "text/plain": [
       "g_12*Ixsigma_2xI*Dagger(sigma_1)xIxI + g_12*sigma_1xIxI*IxDagger(sigma_2)xI + g_13*IxIxsigma_3*Dagger(sigma_1)xIxI + g_13*sigma_1xIxI*IxIxDagger(sigma_3) + g_23*IxIxsigma_3*IxDagger(sigma_2)xI + g_23*Ixsigma_2xI*IxIxDagger(sigma_3) + omega_1*Dagger(sigma_1)xIxI*sigma_1xIxI + omega_2*IxDagger(sigma_2)xI*Ixsigma_2xI + omega_3*IxIxDagger(sigma_3)*IxIxsigma_3 + [g_13*Dagger(sigma_1)xIxI*IxIxsigma_3/(omega_1 - omega_3) - g_13*sigma_1xIxI*IxIxDagger(sigma_3)/(omega_1 - omega_3) + g_23*IxDagger(sigma_2)xI*IxIxsigma_3/(omega_2 - omega_3) - g_23*Ixsigma_2xI*IxIxDagger(sigma_3)/(omega_2 - omega_3),g_12*Ixsigma_2xI*Dagger(sigma_1)xIxI + g_12*sigma_1xIxI*IxDagger(sigma_2)xI + g_13*IxIxsigma_3*Dagger(sigma_1)xIxI + g_13*sigma_1xIxI*IxIxDagger(sigma_3) + g_23*IxIxsigma_3*IxDagger(sigma_2)xI + g_23*Ixsigma_2xI*IxIxDagger(sigma_3) + omega_1*Dagger(sigma_1)xIxI*sigma_1xIxI + omega_2*IxDagger(sigma_2)xI*Ixsigma_2xI + omega_3*IxIxDagger(sigma_3)*IxIxsigma_3]"
      ]
     },
     "execution_count": 106,
     "metadata": {},
     "output_type": "execute_result"
    }
   ],
   "source": [
    "expand(H + FirstOrder)"
   ]
  },
  {
   "cell_type": "code",
   "execution_count": 119,
   "id": "886a54bd",
   "metadata": {},
   "outputs": [
    {
     "data": {
      "text/latex": [
       "$\\displaystyle \\left[\\frac{g_{13} \\left({\\sigma_{1}^{\\dagger}}\\otimes {{\\mathcal{I}}}\\otimes {{\\mathcal{I}}} {{\\mathcal{I}}}\\otimes {{\\mathcal{I}}}\\otimes {\\sigma_{3}} - {\\sigma_{1}}\\otimes {{\\mathcal{I}}}\\otimes {{\\mathcal{I}}} {{\\mathcal{I}}}\\otimes {{\\mathcal{I}}}\\otimes {\\sigma_{3}^{\\dagger}}\\right)}{\\omega_{1} - \\omega_{3}} + \\frac{g_{23} \\left({{\\mathcal{I}}}\\otimes {\\sigma_{2}^{\\dagger}}\\otimes {{\\mathcal{I}}} {{\\mathcal{I}}}\\otimes {{\\mathcal{I}}}\\otimes {\\sigma_{3}} - {{\\mathcal{I}}}\\otimes {\\sigma_{2}}\\otimes {{\\mathcal{I}}} {{\\mathcal{I}}}\\otimes {{\\mathcal{I}}}\\otimes {\\sigma_{3}^{\\dagger}}\\right)}{\\omega_{2} - \\omega_{3}},\\left[\\frac{g_{13} \\left({\\sigma_{1}^{\\dagger}}\\otimes {{\\mathcal{I}}}\\otimes {{\\mathcal{I}}} {{\\mathcal{I}}}\\otimes {{\\mathcal{I}}}\\otimes {\\sigma_{3}} - {\\sigma_{1}}\\otimes {{\\mathcal{I}}}\\otimes {{\\mathcal{I}}} {{\\mathcal{I}}}\\otimes {{\\mathcal{I}}}\\otimes {\\sigma_{3}^{\\dagger}}\\right)}{\\omega_{1} - \\omega_{3}} + \\frac{g_{23} \\left({{\\mathcal{I}}}\\otimes {\\sigma_{2}^{\\dagger}}\\otimes {{\\mathcal{I}}} {{\\mathcal{I}}}\\otimes {{\\mathcal{I}}}\\otimes {\\sigma_{3}} - {{\\mathcal{I}}}\\otimes {\\sigma_{2}}\\otimes {{\\mathcal{I}}} {{\\mathcal{I}}}\\otimes {{\\mathcal{I}}}\\otimes {\\sigma_{3}^{\\dagger}}\\right)}{\\omega_{2} - \\omega_{3}},g_{12} \\left({{\\mathcal{I}}}\\otimes {\\sigma_{2}}\\otimes {{\\mathcal{I}}} {\\sigma_{1}^{\\dagger}}\\otimes {{\\mathcal{I}}}\\otimes {{\\mathcal{I}}} + {\\sigma_{1}}\\otimes {{\\mathcal{I}}}\\otimes {{\\mathcal{I}}} {{\\mathcal{I}}}\\otimes {\\sigma_{2}^{\\dagger}}\\otimes {{\\mathcal{I}}}\\right) + g_{13} \\left({{\\mathcal{I}}}\\otimes {{\\mathcal{I}}}\\otimes {\\sigma_{3}} {\\sigma_{1}^{\\dagger}}\\otimes {{\\mathcal{I}}}\\otimes {{\\mathcal{I}}} + {\\sigma_{1}}\\otimes {{\\mathcal{I}}}\\otimes {{\\mathcal{I}}} {{\\mathcal{I}}}\\otimes {{\\mathcal{I}}}\\otimes {\\sigma_{3}^{\\dagger}}\\right) + g_{23} \\left({{\\mathcal{I}}}\\otimes {{\\mathcal{I}}}\\otimes {\\sigma_{3}} {{\\mathcal{I}}}\\otimes {\\sigma_{2}^{\\dagger}}\\otimes {{\\mathcal{I}}} + {{\\mathcal{I}}}\\otimes {\\sigma_{2}}\\otimes {{\\mathcal{I}}} {{\\mathcal{I}}}\\otimes {{\\mathcal{I}}}\\otimes {\\sigma_{3}^{\\dagger}}\\right) + \\omega_{1} {\\sigma_{1}^{\\dagger}}\\otimes {{\\mathcal{I}}}\\otimes {{\\mathcal{I}}} {\\sigma_{1}}\\otimes {{\\mathcal{I}}}\\otimes {{\\mathcal{I}}} + \\omega_{2} {{\\mathcal{I}}}\\otimes {\\sigma_{2}^{\\dagger}}\\otimes {{\\mathcal{I}}} {{\\mathcal{I}}}\\otimes {\\sigma_{2}}\\otimes {{\\mathcal{I}}} + \\omega_{3} {{\\mathcal{I}}}\\otimes {{\\mathcal{I}}}\\otimes {\\sigma_{3}^{\\dagger}} {{\\mathcal{I}}}\\otimes {{\\mathcal{I}}}\\otimes {\\sigma_{3}}\\right]\\right]$"
      ],
      "text/plain": [
       "[g_13*(Dagger(sigma_1)xIxI*IxIxsigma_3 - sigma_1xIxI*IxIxDagger(sigma_3))/(omega_1 - omega_3) + g_23*(IxDagger(sigma_2)xI*IxIxsigma_3 - Ixsigma_2xI*IxIxDagger(sigma_3))/(omega_2 - omega_3),[g_13*(Dagger(sigma_1)xIxI*IxIxsigma_3 - sigma_1xIxI*IxIxDagger(sigma_3))/(omega_1 - omega_3) + g_23*(IxDagger(sigma_2)xI*IxIxsigma_3 - Ixsigma_2xI*IxIxDagger(sigma_3))/(omega_2 - omega_3),g_12*(Ixsigma_2xI*Dagger(sigma_1)xIxI + sigma_1xIxI*IxDagger(sigma_2)xI) + g_13*(IxIxsigma_3*Dagger(sigma_1)xIxI + sigma_1xIxI*IxIxDagger(sigma_3)) + g_23*(IxIxsigma_3*IxDagger(sigma_2)xI + Ixsigma_2xI*IxIxDagger(sigma_3)) + omega_1*Dagger(sigma_1)xIxI*sigma_1xIxI + omega_2*IxDagger(sigma_2)xI*Ixsigma_2xI + omega_3*IxIxDagger(sigma_3)*IxIxsigma_3]]"
      ]
     },
     "execution_count": 119,
     "metadata": {},
     "output_type": "execute_result"
    }
   ],
   "source": [
    "SecondOrder"
   ]
  },
  {
   "cell_type": "code",
   "execution_count": 118,
   "id": "d1794d87",
   "metadata": {},
   "outputs": [
    {
     "data": {
      "text/latex": [
       "$\\displaystyle g_{12} {{\\mathcal{I}}}\\otimes {\\sigma_{2}}\\otimes {{\\mathcal{I}}} {\\sigma_{1}^{\\dagger}}\\otimes {{\\mathcal{I}}}\\otimes {{\\mathcal{I}}} + g_{12} {\\sigma_{1}}\\otimes {{\\mathcal{I}}}\\otimes {{\\mathcal{I}}} {{\\mathcal{I}}}\\otimes {\\sigma_{2}^{\\dagger}}\\otimes {{\\mathcal{I}}} + g_{13} {{\\mathcal{I}}}\\otimes {{\\mathcal{I}}}\\otimes {\\sigma_{3}} {\\sigma_{1}^{\\dagger}}\\otimes {{\\mathcal{I}}}\\otimes {{\\mathcal{I}}} + g_{13} {\\sigma_{1}}\\otimes {{\\mathcal{I}}}\\otimes {{\\mathcal{I}}} {{\\mathcal{I}}}\\otimes {{\\mathcal{I}}}\\otimes {\\sigma_{3}^{\\dagger}} + g_{23} {{\\mathcal{I}}}\\otimes {{\\mathcal{I}}}\\otimes {\\sigma_{3}} {{\\mathcal{I}}}\\otimes {\\sigma_{2}^{\\dagger}}\\otimes {{\\mathcal{I}}} + g_{23} {{\\mathcal{I}}}\\otimes {\\sigma_{2}}\\otimes {{\\mathcal{I}}} {{\\mathcal{I}}}\\otimes {{\\mathcal{I}}}\\otimes {\\sigma_{3}^{\\dagger}} + \\omega_{1} {\\sigma_{1}^{\\dagger}}\\otimes {{\\mathcal{I}}}\\otimes {{\\mathcal{I}}} {\\sigma_{1}}\\otimes {{\\mathcal{I}}}\\otimes {{\\mathcal{I}}} + \\omega_{2} {{\\mathcal{I}}}\\otimes {\\sigma_{2}^{\\dagger}}\\otimes {{\\mathcal{I}}} {{\\mathcal{I}}}\\otimes {\\sigma_{2}}\\otimes {{\\mathcal{I}}} + \\omega_{3} {{\\mathcal{I}}}\\otimes {{\\mathcal{I}}}\\otimes {\\sigma_{3}^{\\dagger}} {{\\mathcal{I}}}\\otimes {{\\mathcal{I}}}\\otimes {\\sigma_{3}} + \\left[\\frac{g_{13} {\\sigma_{1}^{\\dagger}}\\otimes {{\\mathcal{I}}}\\otimes {{\\mathcal{I}}} {{\\mathcal{I}}}\\otimes {{\\mathcal{I}}}\\otimes {\\sigma_{3}}}{\\omega_{1} - \\omega_{3}} - \\frac{g_{13} {\\sigma_{1}}\\otimes {{\\mathcal{I}}}\\otimes {{\\mathcal{I}}} {{\\mathcal{I}}}\\otimes {{\\mathcal{I}}}\\otimes {\\sigma_{3}^{\\dagger}}}{\\omega_{1} - \\omega_{3}} + \\frac{g_{23} {{\\mathcal{I}}}\\otimes {\\sigma_{2}^{\\dagger}}\\otimes {{\\mathcal{I}}} {{\\mathcal{I}}}\\otimes {{\\mathcal{I}}}\\otimes {\\sigma_{3}}}{\\omega_{2} - \\omega_{3}} - \\frac{g_{23} {{\\mathcal{I}}}\\otimes {\\sigma_{2}}\\otimes {{\\mathcal{I}}} {{\\mathcal{I}}}\\otimes {{\\mathcal{I}}}\\otimes {\\sigma_{3}^{\\dagger}}}{\\omega_{2} - \\omega_{3}},\\left[\\frac{g_{13} {\\sigma_{1}^{\\dagger}}\\otimes {{\\mathcal{I}}}\\otimes {{\\mathcal{I}}} {{\\mathcal{I}}}\\otimes {{\\mathcal{I}}}\\otimes {\\sigma_{3}}}{\\omega_{1} - \\omega_{3}} - \\frac{g_{13} {\\sigma_{1}}\\otimes {{\\mathcal{I}}}\\otimes {{\\mathcal{I}}} {{\\mathcal{I}}}\\otimes {{\\mathcal{I}}}\\otimes {\\sigma_{3}^{\\dagger}}}{\\omega_{1} - \\omega_{3}} + \\frac{g_{23} {{\\mathcal{I}}}\\otimes {\\sigma_{2}^{\\dagger}}\\otimes {{\\mathcal{I}}} {{\\mathcal{I}}}\\otimes {{\\mathcal{I}}}\\otimes {\\sigma_{3}}}{\\omega_{2} - \\omega_{3}} - \\frac{g_{23} {{\\mathcal{I}}}\\otimes {\\sigma_{2}}\\otimes {{\\mathcal{I}}} {{\\mathcal{I}}}\\otimes {{\\mathcal{I}}}\\otimes {\\sigma_{3}^{\\dagger}}}{\\omega_{2} - \\omega_{3}},g_{12} {{\\mathcal{I}}}\\otimes {\\sigma_{2}}\\otimes {{\\mathcal{I}}} {\\sigma_{1}^{\\dagger}}\\otimes {{\\mathcal{I}}}\\otimes {{\\mathcal{I}}} + g_{12} {\\sigma_{1}}\\otimes {{\\mathcal{I}}}\\otimes {{\\mathcal{I}}} {{\\mathcal{I}}}\\otimes {\\sigma_{2}^{\\dagger}}\\otimes {{\\mathcal{I}}} + g_{13} {{\\mathcal{I}}}\\otimes {{\\mathcal{I}}}\\otimes {\\sigma_{3}} {\\sigma_{1}^{\\dagger}}\\otimes {{\\mathcal{I}}}\\otimes {{\\mathcal{I}}} + g_{13} {\\sigma_{1}}\\otimes {{\\mathcal{I}}}\\otimes {{\\mathcal{I}}} {{\\mathcal{I}}}\\otimes {{\\mathcal{I}}}\\otimes {\\sigma_{3}^{\\dagger}} + g_{23} {{\\mathcal{I}}}\\otimes {{\\mathcal{I}}}\\otimes {\\sigma_{3}} {{\\mathcal{I}}}\\otimes {\\sigma_{2}^{\\dagger}}\\otimes {{\\mathcal{I}}} + g_{23} {{\\mathcal{I}}}\\otimes {\\sigma_{2}}\\otimes {{\\mathcal{I}}} {{\\mathcal{I}}}\\otimes {{\\mathcal{I}}}\\otimes {\\sigma_{3}^{\\dagger}} + \\omega_{1} {\\sigma_{1}^{\\dagger}}\\otimes {{\\mathcal{I}}}\\otimes {{\\mathcal{I}}} {\\sigma_{1}}\\otimes {{\\mathcal{I}}}\\otimes {{\\mathcal{I}}} + \\omega_{2} {{\\mathcal{I}}}\\otimes {\\sigma_{2}^{\\dagger}}\\otimes {{\\mathcal{I}}} {{\\mathcal{I}}}\\otimes {\\sigma_{2}}\\otimes {{\\mathcal{I}}} + \\omega_{3} {{\\mathcal{I}}}\\otimes {{\\mathcal{I}}}\\otimes {\\sigma_{3}^{\\dagger}} {{\\mathcal{I}}}\\otimes {{\\mathcal{I}}}\\otimes {\\sigma_{3}}\\right]\\right]$"
      ],
      "text/plain": [
       "g_12*Ixsigma_2xI*Dagger(sigma_1)xIxI + g_12*sigma_1xIxI*IxDagger(sigma_2)xI + g_13*IxIxsigma_3*Dagger(sigma_1)xIxI + g_13*sigma_1xIxI*IxIxDagger(sigma_3) + g_23*IxIxsigma_3*IxDagger(sigma_2)xI + g_23*Ixsigma_2xI*IxIxDagger(sigma_3) + omega_1*Dagger(sigma_1)xIxI*sigma_1xIxI + omega_2*IxDagger(sigma_2)xI*Ixsigma_2xI + omega_3*IxIxDagger(sigma_3)*IxIxsigma_3 + [g_13*Dagger(sigma_1)xIxI*IxIxsigma_3/(omega_1 - omega_3) - g_13*sigma_1xIxI*IxIxDagger(sigma_3)/(omega_1 - omega_3) + g_23*IxDagger(sigma_2)xI*IxIxsigma_3/(omega_2 - omega_3) - g_23*Ixsigma_2xI*IxIxDagger(sigma_3)/(omega_2 - omega_3),[g_13*Dagger(sigma_1)xIxI*IxIxsigma_3/(omega_1 - omega_3) - g_13*sigma_1xIxI*IxIxDagger(sigma_3)/(omega_1 - omega_3) + g_23*IxDagger(sigma_2)xI*IxIxsigma_3/(omega_2 - omega_3) - g_23*Ixsigma_2xI*IxIxDagger(sigma_3)/(omega_2 - omega_3),g_12*Ixsigma_2xI*Dagger(sigma_1)xIxI + g_12*sigma_1xIxI*IxDagger(sigma_2)xI + g_13*IxIxsigma_3*Dagger(sigma_1)xIxI + g_13*sigma_1xIxI*IxIxDagger(sigma_3) + g_23*IxIxsigma_3*IxDagger(sigma_2)xI + g_23*Ixsigma_2xI*IxIxDagger(sigma_3) + omega_1*Dagger(sigma_1)xIxI*sigma_1xIxI + omega_2*IxDagger(sigma_2)xI*Ixsigma_2xI + omega_3*IxIxDagger(sigma_3)*IxIxsigma_3]]"
      ]
     },
     "execution_count": 118,
     "metadata": {},
     "output_type": "execute_result"
    }
   ],
   "source": []
  },
  {
   "cell_type": "code",
   "execution_count": null,
   "id": "c47730aa",
   "metadata": {},
   "outputs": [],
   "source": []
  }
 ],
 "metadata": {
  "kernelspec": {
   "display_name": "Python 3 (ipykernel)",
   "language": "python",
   "name": "python3"
  },
  "language_info": {
   "codemirror_mode": {
    "name": "ipython",
    "version": 3
   },
   "file_extension": ".py",
   "mimetype": "text/x-python",
   "name": "python",
   "nbconvert_exporter": "python",
   "pygments_lexer": "ipython3",
   "version": "3.9.11"
  }
 },
 "nbformat": 4,
 "nbformat_minor": 5
}
